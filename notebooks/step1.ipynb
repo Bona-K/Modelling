{
 "cells": [
  {
   "cell_type": "markdown",
   "id": "6e55d013",
   "metadata": {},
   "source": [
    "# Step 1 — Threshold Rule + Anchor Quality (Behavioral Extension)\n",
    "\n",
    "**Goal:**  \n",
    "Introduce behavioral realism by adding two movement rules — the **threshold rule** and **anchor quality**.  \n",
    "Customers no longer move purely at random: their decisions depend on the similarity of nearby stores and the attractiveness of the anchor.\n",
    "\n",
    "---\n",
    "\n",
    "**Why Step 1 matters**  \n",
    "- Adds **social clustering** behavior (agents prefer similar stores).  \n",
    "- Captures **anchor influence** on staying and spillover effects.  \n",
    "- Moves the model beyond random movement toward *realistic retail dynamics*.\n",
    "\n",
    "---\n",
    "\n",
    "**Key assumptions**  \n",
    "- Each agent checks the proportion of **same-category neighbors** before moving.  \n",
    "- If the ratio ≥ `theta_same`, the agent moves toward a similar store.  \n",
    "- Otherwise, it moves randomly or stays put.  \n",
    "- Anchors have a probability `p_stay_anchor` of keeping agents longer (anchor quality).  \n",
    "- Higher-quality anchors concentrate traffic, but too high a value reduces diffusion.\n",
    "\n",
    "---\n",
    "\n",
    "**Parameters introduced**  \n",
    "| Parameter | Meaning | Example values |\n",
    "|------------|----------|----------------|\n",
    "| `theta_same` | Minimum ratio of same-category neighbors required to move | 0.4 = diffusion ↑ 0.8 = clustering ↑ |\n",
    "| `p_stay_anchor` | Probability of staying longer at anchor (anchor quality) | 0.3 = medium 0.5 = high |\n",
    "\n",
    "---\n",
    "\n",
    "**Expected patterns**  \n",
    "- **Higher `theta_same` →** stronger clustering, reduced exploration.  \n",
    "- **Higher `p_stay_anchor` →** more footfall at the anchor and 1-hop neighbors.  \n",
    "- Moderate values (e.g., `theta_same = 0.6`, `p_stay_anchor = 0.3`) give balanced diffusion and clustering."
   ]
  }
 ],
 "metadata": {
  "language_info": {
   "name": "python"
  }
 },
 "nbformat": 4,
 "nbformat_minor": 5
}
