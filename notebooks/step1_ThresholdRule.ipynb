{
 "cells": [
  {
   "cell_type": "markdown",
   "id": "0f991b68",
   "metadata": {},
   "source": [
    "# Step 1 — Threshold Rule + Anchor Quality (Behavioral Extension)\n",
    "\n",
    "**Goal:**  \n",
    "Introduce behavioral realism by adding two movement rules — the **threshold rule** and **anchor quality**.  \n",
    "Customers no longer move purely at random: their decisions depend on the similarity of nearby stores and the attractiveness of the anchor.\n",
    "\n",
    "---\n",
    "\n",
    "**Why Step 1 matters**  \n",
    "- Adds **social clustering** behavior (agents prefer similar stores).  \n",
    "- Captures **anchor influence** on staying and spillover effects.  \n",
    "- Moves the model beyond random movement toward *realistic retail dynamics*.\n",
    "\n",
    "---\n",
    "\n",
    "**Key assumptions**  \n",
    "- Each agent checks the proportion of **same-category neighbors** before moving.  \n",
    "- If the ratio ≥ `theta_same`, the agent moves toward a similar store.  \n",
    "- Otherwise, it moves randomly or stays put.  \n",
    "- Anchors have a probability `p_stay_anchor` of keeping agents longer (anchor quality).  \n",
    "- Higher-quality anchors concentrate traffic, but too high a value reduces diffusion.\n",
    "\n",
    "---\n",
    "\n",
    "**Parameters introduced**  \n",
    "| Parameter | Meaning | Example values |\n",
    "|------------|----------|----------------|\n",
    "| `theta_same` | Minimum ratio of same-category neighbors required to move | 0.4 = diffusion ↑ 0.8 = clustering ↑ |\n",
    "| `p_stay_anchor` | Probability of staying longer at anchor (anchor quality) | 0.3 = medium 0.5 = high |\n",
    "\n",
    "---\n",
    "\n",
    "**Expected patterns**  \n",
    "- **Higher `theta_same` →** stronger clustering, reduced exploration.  \n",
    "- **Higher `p_stay_anchor` →** more footfall at the anchor and 1-hop neighbors.  \n",
    "- Moderate values (e.g., `theta_same = 0.6`, `p_stay_anchor = 0.3`) give balanced diffusion and clustering."
   ]
  },
  {
   "cell_type": "code",
   "execution_count": null,
   "id": "f1173e37",
   "metadata": {},
   "outputs": [],
   "source": [
    "import sys, os\n",
    "\n",
    "# Add project paths (adjust if your notebook lives elsewhere)\n",
    "PROJECT_ROOT = os.path.abspath(\"..\")\n",
    "sys.path.append(PROJECT_ROOT)\n",
    "sys.path.append(os.path.join(PROJECT_ROOT, \"asm\"))\n",
    "sys.path.append(os.path.join(PROJECT_ROOT, \"utils\"))\n",
    "\n",
    "print(\"Path added:\", PROJECT_ROOT)"
   ]
  },
  {
   "cell_type": "code",
   "execution_count": null,
   "id": "11e658f7",
   "metadata": {},
   "outputs": [],
   "source": [
    "from utils import ensure_dir            # if your ensure_dir sits in utils/__init__.py\n",
    "# OR: from utils.io import ensure_dir   # if ensure_dir lives in utils/io.py\n",
    "try:\n",
    "    from utils.random_tools import set_seed\n",
    "    from utils.plotting import set_palette\n",
    "    set_seed(42)\n",
    "    set_palette(style='whitegrid', context='talk', palette='Set2')\n",
    "except Exception as e:\n",
    "    print(\"Optional styling utils not found or failed:\", e)"
   ]
  },
  {
   "cell_type": "code",
   "execution_count": null,
   "id": "04959395",
   "metadata": {},
   "outputs": [],
   "source": [
    "from asm.simulate_step1 import simulate, Params\n",
    "\n",
    "# Quick sanity check: show default params\n",
    "Params()\n"
   ]
  },
  {
   "cell_type": "markdown",
   "id": "7c13f10d",
   "metadata": {},
   "source": [
    "## **Single run (preview)**\n",
    "\n",
    "Baseline: theta_same=0.6, p_stay_anchor=0.3, count_t0=True\n",
    "Save CSV: data/outputs/step1.csv"
   ]
  },
  {
   "cell_type": "code",
   "execution_count": null,
   "id": "01fce4f1",
   "metadata": {},
   "outputs": [],
   "source": [
    "import pandas as pd\n",
    "\n",
    "p = Params(theta_same=0.6, p_stay_anchor=0.3, count_t0=True)\n",
    "df = simulate(p)   # NOTE: your step1 returns only df\n",
    "df.head()\n"
   ]
  },
  {
   "cell_type": "code",
   "execution_count": null,
   "id": "f428d870",
   "metadata": {},
   "outputs": [],
   "source": [
    "total = int(df[\"footfall\"].sum())\n",
    "expected = p.n_agents * (p.steps + int(p.count_t0))  # use INSTANCE values (not class)\n",
    "print(f\"Total footfall: {total} | Expected: {expected}\")\n",
    "assert total == expected, \"Total footfall mismatch!\"\n",
    "print(\"✅ Simulation totals are correct.\")"
   ]
  },
  {
   "cell_type": "code",
   "execution_count": null,
   "id": "78d3575c",
   "metadata": {},
   "outputs": [],
   "source": [
    "def summarize(df: pd.DataFrame) -> pd.DataFrame:\n",
    "    total = int(df[\"footfall\"].sum())\n",
    "    anchor_total = int(df.loc[df[\"role\"]==\"anchor\",\"footfall\"].sum())\n",
    "    out = pd.DataFrame({\n",
    "        \"metric\": [\"total\",\"anchor_total\",\"anchor_share\",\n",
    "                   \"similar_total\",\"different_total\"],\n",
    "        \"value\": [\n",
    "            total,\n",
    "            anchor_total,\n",
    "            (anchor_total/total) if total else 0.0,\n",
    "            int(df.loc[df[\"category\"]==\"similar\",\"footfall\"].sum()),\n",
    "            int(df.loc[df[\"category\"]==\"different\",\"footfall\"].sum())\n",
    "        ]\n",
    "    })\n",
    "    return out\n",
    "\n",
    "summary = summarize(df)\n",
    "summary\n"
   ]
  },
  {
   "cell_type": "code",
   "execution_count": null,
   "id": "2e0194dc",
   "metadata": {},
   "outputs": [],
   "source": [
    "import matplotlib.pyplot as plt\n",
    "import seaborn as sns\n",
    "\n",
    "plt.figure(figsize=(12,4))\n",
    "sns.barplot(data=df.sort_values(\"node\"), x=\"node\", y=\"footfall\", hue=\"category\")\n",
    "plt.title(\"Footfall distribution (Step 1)\")\n",
    "plt.xlabel(\"Node\")\n",
    "plt.ylabel(\"Footfall\")\n",
    "\n",
    "ensure_dir(\"data/outputs/figs\")\n",
    "plt.tight_layout()\n",
    "plt.savefig(\"data/outputs/figs/footfall_step1.png\", dpi=150)\n",
    "print(\"[Saved] data/outputs/figs/footfall_step1.png\")\n",
    "plt.show()\n"
   ]
  },
  {
   "cell_type": "markdown",
   "id": "47d50ebe",
   "metadata": {},
   "source": [
    "## **Sensitivity study**\n",
    "\n",
    "We vary theta_same ∈ {0.4, 0.6, 0.8} and p_stay_anchor ∈ {0.0, 0.3, 0.5} to observe:\n",
    "\n",
    "Anchor concentration (anchor_share)\n",
    "\n",
    "Category totals\n",
    "\n",
    "Overall traffic unchanged by design (steps × agents [+t0])"
   ]
  },
  {
   "cell_type": "code",
   "execution_count": null,
   "id": "4615abf9",
   "metadata": {},
   "outputs": [],
   "source": [
    "def run_sensitivity(theta_list=(0.4, 0.6, 0.8), stay_list=(0.0, 0.3, 0.5), base=Params()):\n",
    "    rows = []\n",
    "    for th in theta_list:\n",
    "        for ps in stay_list:\n",
    "            p = Params(\n",
    "                n_nodes=base.n_nodes, n_anchors=base.n_anchors, steps=base.steps,\n",
    "                theta_same=th, p_edge=base.p_edge, n_agents=base.n_agents,\n",
    "                p_stay_anchor=ps, seed=base.seed, count_t0=base.count_t0\n",
    "            )\n",
    "            d = simulate(p)\n",
    "            s = summarize(d).set_index(\"metric\")[\"value\"].to_dict()\n",
    "            s[\"theta_same\"] = th\n",
    "            s[\"p_stay_anchor\"] = ps\n",
    "            rows.append(s)\n",
    "    out = pd.DataFrame(rows)\n",
    "    cols = [\"theta_same\",\"p_stay_anchor\",\"total\",\"anchor_total\",\"anchor_share\",\"similar_total\",\"different_total\"]\n",
    "    return out[cols].sort_values([\"theta_same\",\"p_stay_anchor\"]).reset_index(drop=True)\n",
    "\n",
    "sens = run_sensitivity()\n",
    "sens\n"
   ]
  },
  {
   "cell_type": "code",
   "execution_count": null,
   "id": "7ae8a985",
   "metadata": {},
   "outputs": [],
   "source": [
    "# Anchor share heatmap-style point plot\n",
    "plt.figure(figsize=(7,4))\n",
    "sns.pointplot(data=sens, x=\"theta_same\", y=\"anchor_share\", hue=\"p_stay_anchor\", dodge=True, markers=\"o\")\n",
    "plt.title(\"Anchor share vs. threshold & anchor dwell (Step 1)\")\n",
    "plt.ylabel(\"Anchor share\")\n",
    "plt.xlabel(\"theta_same\")\n",
    "plt.tight_layout()\n",
    "plt.savefig(\"data/outputs/figs/sensitivity_step1_anchor_share.png\", dpi=150)\n",
    "print(\"[Saved] data/outputs/figs/sensitivity_step1_anchor_share.png\")\n",
    "plt.show()\n",
    "\n",
    "# Category totals by grid\n",
    "plt.figure(figsize=(7,4))\n",
    "sns.pointplot(data=sens, x=\"theta_same\", y=\"similar_total\", hue=\"p_stay_anchor\", dodge=True, markers=\"o\")\n",
    "plt.title(\"Similar-category footfall vs. parameters (Step 1)\")\n",
    "plt.ylabel(\"Similar total\")\n",
    "plt.xlabel(\"theta_same\")\n",
    "plt.tight_layout()\n",
    "plt.savefig(\"data/outputs/figs/sensitivity_step1_similar_total.png\", dpi=150)\n",
    "print(\"[Saved] data/outputs/figs/sensitivity_step1_similar_total.png\")\n",
    "plt.show()\n"
   ]
  },
  {
   "cell_type": "markdown",
   "id": "dafcdf38",
   "metadata": {},
   "source": [
    "## **Interpretation** \n",
    "\n",
    "vs. Step 0 (random):\n",
    "Behavior-driven rules yield non-uniform traffic: anchors pull more flow (esp. with higher p_stay_anchor), and homophily (theta_same) fosters clustering.\n",
    "\n",
    "p_stay_anchor↑ → anchor & neighbors gain share; if too high, diffusion weakens (agents get “stuck”).\n",
    "\n",
    "theta_same↑ → within-category circulation increases; exploration declines.\n",
    "\n",
    "Design insight: tune anchor quality and category mix to balance concentration (sales lift) and coverage (exposure)."
   ]
  },
  {
   "cell_type": "markdown",
   "id": "dfca3521",
   "metadata": {},
   "source": [
    "# threshold: min ratio of same-category neighbors to move toward them\n",
    "# probability of staying longer at anchor (anchor quality factor)"
   ]
  },
  {
   "cell_type": "code",
   "execution_count": null,
   "id": "3cc3d174",
   "metadata": {},
   "outputs": [],
   "source": [
    "def build_mall(params: Params):\n",
    "    rng = np.random.default_rng(params.seed)\n",
    "    G = nx.erdos_renyi_graph(params.n_nodes, params.p_edge, seed=params.seed)\n",
    "\n",
    "    anchors = set(rng.choice(params.n_nodes, params.n_anchors, replace=False))\n",
    "    for n in G.nodes:\n",
    "        if n in anchors:\n",
    "            G.nodes[n][\"role\"] = \"anchor\"\n",
    "            G.nodes[n][\"category\"] = \"similar\"\n",
    "            G.nodes[n][\"A\"] = 3\n",
    "        else:\n",
    "            G.nodes[n][\"role\"] = \"tenant\"\n",
    "            G.nodes[n][\"category\"] = rng.choice([\"similar\", \"different\"])\n",
    "            G.nodes[n][\"A\"] = 1\n",
    "    return G, anchors"
   ]
  },
  {
   "cell_type": "markdown",
   "id": "624de372",
   "metadata": {},
   "source": [
    "## **Movement Logic (Threshold + Anchor Quality)**\n",
    "\n",
    "1. If on an anchor and rng.random() < p_stay_anchor: stay.\n",
    "\n",
    "2. Else, compute ratio_same = (# of same-category neighbors) / (# of neighbors).\n",
    "    - If ratio_same ≥ theta_same and there exists ≥1 same-category neighbor: move to a similar neighbor (uniform among them).\n",
    "\n",
    "3. Else (fallback): quality-weighted random over (neighbors + here) with weights A."
   ]
  },
  {
   "cell_type": "code",
   "execution_count": null,
   "id": "2970af69",
   "metadata": {},
   "outputs": [],
   "source": [
    "def simulate(params: Params):\n",
    "    rng = np.random.default_rng(params.seed)\n",
    "\n",
    "    G, anchors = build_mall(params)\n",
    "    A0 = next(iter(anchors))  \n",
    "    \n",
    "    customers = np.full(params.n_agents, A0, dtype=int)  \n",
    "    footfall = np.zeros(params.n_nodes, dtype=int)\n",
    "\n",
    "    if params.count_t0:\n",
    "        for c in customers:\n",
    "            footfall[c] += 1\n",
    "\n",
    "    for _ in range(params.steps):\n",
    "        for i in range(len(customers)):\n",
    "            here = customers[i]\n",
    "            neighbors = list(G.neighbors(here))\n",
    "            if not neighbors:\n",
    "                neighbors = [here]  # isolation guard\n",
    "\n",
    "            curr_cat = G.nodes[here][\"category\"]\n",
    "\n",
    "            same_neighbors = [v for v in neighbors if G.nodes[v][\"category\"] == curr_cat]\n",
    "            ratio_same = len(same_neighbors) / len(neighbors) if neighbors else 0.0\n",
    "\n",
    "            if G.nodes[here][\"role\"] == \"anchor\" and rng.random() < params.p_stay_anchor:\n",
    "                nxt = here  # dwell at anchor\n",
    "            elif len(same_neighbors) > 0 and ratio_same >= params.theta_same:\n",
    "                nxt = int(rng.choice(same_neighbors))  # prefer similar category\n",
    "            else:\n",
    "                pool = neighbors + [here]  # allow staying via pool\n",
    "                weights = np.array([G.nodes[v][\"A\"] for v in pool], dtype=float)\n",
    "                probs = weights / weights.sum()\n",
    "                nxt = int(rng.choice(pool, p=probs))  # quality-weighted random\n",
    "\n",
    "            customers[i] = nxt\n",
    "            footfall[nxt] += 1\n",
    "\n",
    "    df = pd.DataFrame({\n",
    "        \"node\": np.arange(params.n_nodes),\n",
    "        \"role\": [G.nodes[n][\"role\"] for n in G.nodes],\n",
    "        \"category\": [G.nodes[n][\"category\"] for n in G.nodes],\n",
    "        \"footfall\": footfall\n",
    "    })\n",
    "    ensure_dir(\"data/outputs\")\n",
    "    df.to_csv(\"data/outputs/step1.csv\", index=False)\n",
    "    print(\"[Saved] data/outputs/step1.csv\")\n",
    "\n",
    "    return df, G, anchors"
   ]
  },
  {
   "cell_type": "code",
   "execution_count": null,
   "id": "dfc6914f",
   "metadata": {},
   "outputs": [],
   "source": [
    "df, G, anchors = simulate(Params())\n",
    "df.head()"
   ]
  }
 ],
 "metadata": {
  "kernelspec": {
   "display_name": "Python 3 (ipykernel)",
   "language": "python",
   "name": "python3"
  },
  "language_info": {
   "codemirror_mode": {
    "name": "ipython",
    "version": 3
   },
   "file_extension": ".py",
   "mimetype": "text/x-python",
   "name": "python",
   "nbconvert_exporter": "python",
   "pygments_lexer": "ipython3",
   "version": "3.12.1"
  }
 },
 "nbformat": 4,
 "nbformat_minor": 5
}
