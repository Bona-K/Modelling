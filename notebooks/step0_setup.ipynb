{
 "cells": [
  {
   "cell_type": "markdown",
   "id": "4b79a6be",
   "metadata": {},
   "source": [
    "# Step 0 — Anchor-Start + Random Walk (Baseline)\n",
    "\n",
    "**Goal:**  \n",
    "All customers (agents) start at the anchor store and move randomly through the mall network.  \n",
    "We record how many times each node is visited (`footfall`) and store the results as a baseline.\n",
    "\n",
    "**Why Step 0 matters**\n",
    "- Provides a **baseline** before adding complex rules (thresholds, probabilities, stay-time).  \n",
    "- Checks simulator **stability** (`n_agents × (steps + 1)` = total footfall).  \n",
    "- Ensures our graph + agent-update loop works correctly.\n",
    "\n",
    "**Key assumptions**\n",
    "- All agents start at one anchor (`A0`).  \n",
    "- Network = *Erdős–Rényi* random graph.  \n",
    "- Movement is **weighted random**: anchor = 3 × weight, tenant = 1 × weight, staying allowed.  \n",
    "- Node labels:  \n",
    "  - `role` = anchor / tenant  \n",
    "  - `category` = similar / different"
   ]
  },
  {
   "cell_type": "code",
   "execution_count": null,
   "id": "d9e79189",
   "metadata": {},
   "outputs": [],
   "source": [
    "import sys, os\n",
    "sys.path.append(\"src\")\n",
    "sys.path.append(\"utils\")\n",
    "\n",
    "# Install dependencies if missing\n",
    "# !pip install -r requirements.txt"
   ]
  },
  {
   "cell_type": "code",
   "execution_count": null,
   "id": "c8ac54e0",
   "metadata": {},
   "outputs": [
    {
     "name": "stdout",
     "output_type": "stream",
     "text": [
      "Path added: /workspaces/Modeling\n"
     ]
    }
   ],
   "source": [
    "import sys, os\n",
    "\n",
    "PROJECT_ROOT = os.path.abspath(\"..\") \n",
    "sys.path.append(PROJECT_ROOT)\n",
    "sys.path.append(os.path.join(PROJECT_ROOT, \"src\"))\n",
    "sys.path.append(os.path.join(PROJECT_ROOT, \"utils\"))\n",
    "\n",
    "print(\"Path added:\", PROJECT_ROOT)"
   ]
  },
  {
   "cell_type": "code",
   "execution_count": null,
   "id": "67e6294f",
   "metadata": {},
   "outputs": [
    {
     "name": "stdout",
     "output_type": "stream",
     "text": [
      "[Seaborn] style=whitegrid, context=talk, palette=Set2\n"
     ]
    }
   ],
   "source": [
    "from utils import ensure_dir\n",
    "from utils.random_tools import set_seed\n",
    "from utils.plotting import set_palette\n",
    "\n",
    "set_seed(42)\n",
    "set_palette(style='whitegrid', context='talk', palette='Set2')"
   ]
  },
  {
   "cell_type": "code",
   "execution_count": null,
   "id": "c62a061f",
   "metadata": {},
   "outputs": [
    {
     "name": "stdout",
     "output_type": "stream",
     "text": [
      "count_t0: False\n",
      "Start anchor: 8\n",
      "   node    role   category  footfall\n",
      "0     0  tenant    similar        58\n",
      "1     1  tenant  different        62\n",
      "2     2  tenant    similar        40\n",
      "3     3  tenant    similar        33\n",
      "4     4  tenant    similar        35\n"
     ]
    }
   ],
   "source": [
    "from asm.simulate_step0 import simulate, Params\n",
    "import pandas as pd\n",
    "\n",
    "p = Params()\n",
    "p.count_t0 = False\n",
    "df, A0 = simulate(p)\n",
    "\n",
    "print(\"count_t0:\", p.count_t0)\n",
    "print(\"Start anchor:\", A0)\n",
    "print(df.head())"
   ]
  },
  {
   "cell_type": "code",
   "execution_count": null,
   "id": "0859fe84",
   "metadata": {},
   "outputs": [
    {
     "name": "stdout",
     "output_type": "stream",
     "text": [
      "Total footfall: 1000 | Expected: 1000\n",
      "✅ Simulation totals are correct.\n",
      "Anchor avg: 124.00 | Tenant avg: 46.11\n"
     ]
    },
    {
     "data": {
      "text/html": [
       "<div>\n",
       "<style scoped>\n",
       "    .dataframe tbody tr th:only-of-type {\n",
       "        vertical-align: middle;\n",
       "    }\n",
       "\n",
       "    .dataframe tbody tr th {\n",
       "        vertical-align: top;\n",
       "    }\n",
       "\n",
       "    .dataframe thead th {\n",
       "        text-align: right;\n",
       "    }\n",
       "</style>\n",
       "<table border=\"1\" class=\"dataframe\">\n",
       "  <thead>\n",
       "    <tr style=\"text-align: right;\">\n",
       "      <th></th>\n",
       "      <th>node</th>\n",
       "      <th>role</th>\n",
       "      <th>category</th>\n",
       "      <th>footfall</th>\n",
       "    </tr>\n",
       "  </thead>\n",
       "  <tbody>\n",
       "    <tr>\n",
       "      <th>8</th>\n",
       "      <td>8</td>\n",
       "      <td>anchor</td>\n",
       "      <td>similar</td>\n",
       "      <td>124</td>\n",
       "    </tr>\n",
       "    <tr>\n",
       "      <th>9</th>\n",
       "      <td>9</td>\n",
       "      <td>tenant</td>\n",
       "      <td>different</td>\n",
       "      <td>80</td>\n",
       "    </tr>\n",
       "    <tr>\n",
       "      <th>10</th>\n",
       "      <td>10</td>\n",
       "      <td>tenant</td>\n",
       "      <td>different</td>\n",
       "      <td>78</td>\n",
       "    </tr>\n",
       "    <tr>\n",
       "      <th>6</th>\n",
       "      <td>6</td>\n",
       "      <td>tenant</td>\n",
       "      <td>similar</td>\n",
       "      <td>68</td>\n",
       "    </tr>\n",
       "    <tr>\n",
       "      <th>19</th>\n",
       "      <td>19</td>\n",
       "      <td>tenant</td>\n",
       "      <td>similar</td>\n",
       "      <td>63</td>\n",
       "    </tr>\n",
       "    <tr>\n",
       "      <th>1</th>\n",
       "      <td>1</td>\n",
       "      <td>tenant</td>\n",
       "      <td>different</td>\n",
       "      <td>62</td>\n",
       "    </tr>\n",
       "    <tr>\n",
       "      <th>0</th>\n",
       "      <td>0</td>\n",
       "      <td>tenant</td>\n",
       "      <td>similar</td>\n",
       "      <td>58</td>\n",
       "    </tr>\n",
       "    <tr>\n",
       "      <th>16</th>\n",
       "      <td>16</td>\n",
       "      <td>tenant</td>\n",
       "      <td>different</td>\n",
       "      <td>53</td>\n",
       "    </tr>\n",
       "    <tr>\n",
       "      <th>18</th>\n",
       "      <td>18</td>\n",
       "      <td>tenant</td>\n",
       "      <td>similar</td>\n",
       "      <td>53</td>\n",
       "    </tr>\n",
       "    <tr>\n",
       "      <th>7</th>\n",
       "      <td>7</td>\n",
       "      <td>tenant</td>\n",
       "      <td>different</td>\n",
       "      <td>50</td>\n",
       "    </tr>\n",
       "  </tbody>\n",
       "</table>\n",
       "</div>"
      ],
      "text/plain": [
       "    node    role   category  footfall\n",
       "8      8  anchor    similar       124\n",
       "9      9  tenant  different        80\n",
       "10    10  tenant  different        78\n",
       "6      6  tenant    similar        68\n",
       "19    19  tenant    similar        63\n",
       "1      1  tenant  different        62\n",
       "0      0  tenant    similar        58\n",
       "16    16  tenant  different        53\n",
       "18    18  tenant    similar        53\n",
       "7      7  tenant  different        50"
      ]
     },
     "execution_count": 13,
     "metadata": {},
     "output_type": "execute_result"
    }
   ],
   "source": [
    "total = df[\"footfall\"].sum()\n",
    "expected = Params.n_agents * (Params.steps + int(Params.count_t0))\n",
    "\n",
    "print(f\"Total footfall: {total} | Expected: {expected}\")\n",
    "assert total == expected, \"Total footfall mismatch!\"\n",
    "print(\"✅ Simulation totals are correct.\")\n",
    "\n",
    "anchor_avg = df[df.role == \"anchor\"].footfall.mean()\n",
    "tenant_avg = df[df.role == \"tenant\"].footfall.mean()\n",
    "print(f\"Anchor avg: {anchor_avg:.2f} | Tenant avg: {tenant_avg:.2f}\")\n",
    "\n",
    "df.sort_values(\"footfall\", ascending=False).head(10)"
   ]
  },
  {
   "cell_type": "code",
   "execution_count": null,
   "id": "fd5b9d64",
   "metadata": {},
   "outputs": [
    {
     "name": "stdout",
     "output_type": "stream",
     "text": [
      "[Saved] data/outputs/figs/footfall_step0.png\n"
     ]
    },
    {
     "data": {
      "image/png": "[encoded data removed]",
      "text/plain": [
       "<Figure size 1200x400 with 1 Axes>"
      ]
     },
     "metadata": {},
     "output_type": "display_data"
    }
   ],
   "source": [
    "import matplotlib.pyplot as plt\n",
    "import seaborn as sns\n",
    "\n",
    "plt.figure(figsize=(12,4))\n",
    "sns.barplot(data=df.sort_values(\"node\"), x=\"node\", y=\"footfall\", hue=\"category\")\n",
    "plt.title(\"Footfall distribution (Step 0)\")\n",
    "plt.xlabel(\"Node\")\n",
    "plt.ylabel(\"Footfall\")\n",
    "\n",
    "ensure_dir(\"data/outputs/figs\")\n",
    "plt.tight_layout()\n",
    "plt.savefig(\"data/outputs/figs/footfall_step0.png\", dpi=150)\n",
    "print(\"[Saved] data/outputs/figs/footfall_step0.png\")\n",
    "plt.show()"
   ]
  },
  {
   "cell_type": "markdown",
   "id": "0538a26e",
   "metadata": {},
   "source": [
    "## Summary\n",
    "- The Step 0 baseline works correctly (expected total footfall confirmed).  \n",
    "- Anchor nodes naturally show higher visitation even with pure random movement.  \n",
    "- These results will serve as the **reference point** for later steps:\n",
    "\n",
    "| Step | New concept | Added parameters |\n",
    "|------|--------------|------------------|\n",
    "| 1 | Threshold rule | `theta_same` |\n",
    "| 2 | Probabilistic move/stay | `p_move_below`, `p_stay_anchor` |\n",
    "| 3 | Time-left distribution | `time_left_min`, `time_left_max` |\n",
    "| 4 | Purchase events | `purchase_prob` |\n",
    "\n",
    "Next: introduce the **Threshold Rule (θ_same)** in *Step 1* to model same-category preference."
   ]
  }
 ],
 "metadata": {
  "kernelspec": {
   "display_name": ".venv",
   "language": "python",
   "name": "python3"
  },
  "language_info": {
   "codemirror_mode": {
    "name": "ipython",
    "version": 3
   },
   "file_extension": ".py",
   "mimetype": "text/x-python",
   "name": "python",
   "nbconvert_exporter": "python",
   "pygments_lexer": "ipython3",
   "version": "3.12.1"
  }
 },
 "nbformat": 4,
 "nbformat_minor": 5
}
