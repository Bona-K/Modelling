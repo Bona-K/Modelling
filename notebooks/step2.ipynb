{
 "cells": [
  {
   "cell_type": "markdown",
   "id": "81666b81",
   "metadata": {},
   "source": [
    "# Step 2 — Threshold Rule + Complementary Movement\n",
    "\n",
    "## **Goal**\n",
    "Build on Step 1 by adding a “backup rule” so that when an agent fails the threshold rule,  \n",
    "they can still move toward a complementary (different) neighbor before staying or moving to random.\n",
    "\n",
    "---\n",
    "\n",
    "## **Key Additions from Step 1**\n",
    "- Introduce **θ_same (threshold)**: agents prefer to move to same-category nodes if ratio ≥ θ_same.  \n",
    "- Add **p_move_below**: if threshold not met, move to different-category node with this probability.  \n",
    "- Define a clear **stay condition**: if both fail, agent stays or makes a minimal random move within its neighbors.  \n",
    "- Anchor remains fixed (e.g., node 0) to ensure consistent diffusion tracking.\n",
    "\n",
    "---\n",
    "\n",
    "## **Movement Logic Summary**\n",
    "| Step | Condition | Action |\n",
    "|------|------------|--------|\n",
    "| ① | `ratio_same ≥ θ_same` | Move to a *similar* neighbor |\n",
    "| ② | `ratio_same < θ_same` and random < `p_move_below` | Move to a *different* neighbor (backup rule) |\n",
    "| ③ | Otherwise | Stay (or random minimal move) |\n",
    "\n",
    "---\n",
    "\n",
    "## **Parameter Settings**\n",
    "| Parameter | Meaning | Example |\n",
    "|------------|----------|----------|\n",
    "| `θ_same` | Same-category ratio threshold | 0.6 |\n",
    "| `p_move_below` | Probability of moving to different node below threshold | 0.4 |\n",
    "| `p_stay_anchor` | Probability of staying at anchor | 0.3 |\n",
    "| `steps` | Number of time ticks | 10 |\n",
    "| `n_agents` | Number of customers | 100 |\n",
    "\n",
    "---\n",
    "\n",
    "## **Interpretation**\n",
    "- When **θ_same ↑**, agents cluster near similar stores.  \n",
    "- When **p_move_below ↑**, diffusion toward other categories increases.  \n",
    "- Fixed anchor allows consistent measurement of footfall spread and spillover effects.\n",
    "\n",
    "---\n",
    "\n",
    "## **Next Step**\n",
    "In Step 3, “different” will be split into two explicit categories —  \n",
    "`complementary` vs. `unrelated` — so we can model more realistic shopping behavior."
   ]
  }
 ],
 "metadata": {
  "language_info": {
   "name": "python"
  }
 },
 "nbformat": 4,
 "nbformat_minor": 5
}
